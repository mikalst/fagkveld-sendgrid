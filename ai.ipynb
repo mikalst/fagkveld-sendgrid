{
 "cells": [
  {
   "cell_type": "code",
   "execution_count": 1,
   "id": "5d77e291-31b8-49ba-900c-9dbe3dd754c6",
   "metadata": {},
   "outputs": [],
   "source": [
    "%load_ext autoreload\n",
    "%autoreload 2"
   ]
  },
  {
   "cell_type": "code",
   "execution_count": 2,
   "id": "0d9ac8b8-8098-4b96-9666-3d37860b8224",
   "metadata": {},
   "outputs": [],
   "source": [
    "from resources.names import names"
   ]
  },
  {
   "cell_type": "code",
   "execution_count": 3,
   "id": "ae5b0861",
   "metadata": {},
   "outputs": [],
   "source": [
    "from src.ai import generate_text\n",
    "from src.ai import createOpenAIClient\n",
    "\n",
    "client = createOpenAIClient()"
   ]
  },
  {
   "cell_type": "code",
   "execution_count": 18,
   "id": "feae1cef",
   "metadata": {},
   "outputs": [],
   "source": []
  },
  {
   "cell_type": "code",
   "execution_count": 20,
   "id": "39f905b7",
   "metadata": {},
   "outputs": [
    {
     "name": "stdout",
     "output_type": "stream",
     "text": [
      "Kjære Mikal,\n",
      "\n",
      "Jeg ville bare ta et øyeblikk for å ønske deg en riktig god jul. Takk for all din innsats og samarbeid dette året. Måtte julefreden senke seg og gi deg noen velfortjente fridager med dine nærmeste. Gleder meg til å fortsette det gode samarbeidet i det kommende året.\n",
      "\n",
      "Med vennlig hilsen,\n",
      "Ole Martin\n"
     ]
    }
   ],
   "source": [
    "gpt_prompt=\"Lag en kort koselig julehilsen til min gode kollega, Mikal\"\n",
    "gpt_system_message='Jeg heter Ole Martin og er en software developer som ønsker Mikal en god jul'\n",
    "\n",
    "text_content = generate_text(client, gpt_prompt, gpt_system_message)\n",
    "\n",
    "print(text_content)"
   ]
  },
  {
   "cell_type": "code",
   "execution_count": 5,
   "id": "ebb7e3e3",
   "metadata": {},
   "outputs": [],
   "source": [
    "from src.ai import generate_image_b64\n",
    "from PIL import Image\n",
    "\n",
    "dalle_prompt = \"Snowman\"\n",
    "image_b64 = generate_image_b64(client, dalle_prompt)"
   ]
  },
  {
   "cell_type": "code",
   "execution_count": 6,
   "id": "1373f909",
   "metadata": {},
   "outputs": [],
   "source": [
    "import requests \n",
    "file = requests.get(image_b64.data[0].url)\n",
    "image_path = './images/generated.png'\n",
    "with open(image_path, \"wb\") as image_file:\n",
    "    image_file.write(file.content)\n",
    "\n",
    "# Display the image in the default image viewer\n",
    "image = Image.open(image_path)\n",
    "image.show()\n"
   ]
  },
  {
   "cell_type": "code",
   "execution_count": 7,
   "id": "bef926d2",
   "metadata": {},
   "outputs": [],
   "source": [
    "from src.image_text import put_text_on_image\n",
    "\n",
    "output_path = './images/texted.png'\n",
    "image = put_text_on_image(image_path, text_content, './images/texted.png', font_path=\"./resources/font.ttf\")"
   ]
  },
  {
   "cell_type": "code",
   "execution_count": 8,
   "id": "8e14b251",
   "metadata": {},
   "outputs": [],
   "source": [
    "from src.storeblob import upload_file_to_blob"
   ]
  },
  {
   "cell_type": "code",
   "execution_count": 11,
   "id": "81ee0e91",
   "metadata": {},
   "outputs": [
    {
     "name": "stdout",
     "output_type": "stream",
     "text": [
      "https://stfagkveldsendgrid.blob.core.windows.net/images/texted.png?se=2023-12-11T15%3A09%3A55Z&sp=r&sv=2023-11-03&ss=b&srt=o&sig=Vm4fvddMXN/zNKtFukJ4UYInygLL0bYwfTHvZbOvAXM%3D\n"
     ]
    }
   ],
   "source": [
    "import os\n",
    "from dotenv import load_dotenv\n",
    "from src.storeblob import upload_file_to_blob\n",
    "load_dotenv()\n",
    "connection_string = os.getenv(\"ABS_CS\")\n",
    "key = os.getenv(\"ABS_KEY\")\n",
    "\n",
    "url = upload_file_to_blob(output_path, connection_string, key, 'images', output_path.split('/')[-1])\n",
    "\n",
    "print(url)\n"
   ]
  },
  {
   "cell_type": "code",
   "execution_count": 12,
   "id": "5a18a03d",
   "metadata": {},
   "outputs": [
    {
     "name": "stdout",
     "output_type": "stream",
     "text": [
      "{'token_type': 'Bearer', 'expires_in': 3599, 'ext_expires_in': 3599, 'access_token': 'eyJ0eXAiOiJKV1QiLCJub25jZSI6IjdtNTZYdlZMa3lIa1QyR1hfMk1PU3RZMWdWVFNCX3BLc1hYbTIyWGp6dkUiLCJhbGciOiJSUzI1NiIsIng1dCI6IlQxU3QtZExUdnlXUmd4Ql82NzZ1OGtyWFMtSSIsImtpZCI6IlQxU3QtZExUdnlXUmd4Ql82NzZ1OGtyWFMtSSJ9.eyJhdWQiOiJodHRwczovL2dyYXBoLm1pY3Jvc29mdC5jb20iLCJpc3MiOiJodHRwczovL3N0cy53aW5kb3dzLm5ldC9iYTlkNzMwNS0zMGVkLTQyY2EtOGI1NC02NWQ5OGQwZjJhMjkvIiwiaWF0IjoxNzAyMjE3MTMyLCJuYmYiOjE3MDIyMTcxMzIsImV4cCI6MTcwMjIyMTAzMiwiYWlvIjoiRTJWZ1lEQUpOL0s5VXBLZW1zMDQ0d0RQMlpScEFBPT0iLCJhcHBfZGlzcGxheW5hbWUiOiJBenVyZU1haWxlcjMiLCJhcHBpZCI6ImYxODQ3OWM0LTBkNGUtNDYyMC1hNDM1LWFiM2ZlMDZlZTI3NSIsImFwcGlkYWNyIjoiMSIsImlkcCI6Imh0dHBzOi8vc3RzLndpbmRvd3MubmV0L2JhOWQ3MzA1LTMwZWQtNDJjYS04YjU0LTY1ZDk4ZDBmMmEyOS8iLCJpZHR5cCI6ImFwcCIsIm9pZCI6IjQ5Y2ViYTg5LTMwOGUtNGRjOC1iNDJhLThlZDc2YTUyMDBmZiIsInJoIjoiMC5BWUVBQlhPZHV1MHd5a0tMVkdYWmpROHFLUU1BQUFBQUFBQUF3QUFBQUFBQUFBQ0JBQUEuIiwicm9sZXMiOlsiTWFpbC5TZW5kIl0sInN1YiI6IjQ5Y2ViYTg5LTMwOGUtNGRjOC1iNDJhLThlZDc2YTUyMDBmZiIsInRlbmFudF9yZWdpb25fc2NvcGUiOiJFVSIsInRpZCI6ImJhOWQ3MzA1LTMwZWQtNDJjYS04YjU0LTY1ZDk4ZDBmMmEyOSIsInV0aSI6Imtjdng3azBrajBDSHAtdzV1UThyQUEiLCJ2ZXIiOiIxLjAiLCJ3aWRzIjpbIjA5OTdhMWQwLTBkMWQtNGFjYi1iNDA4LWQ1Y2E3MzEyMWU5MCJdLCJ4bXNfdGNkdCI6MTYyMDEyMzQ1OCwieG1zX3RkYnIiOiJFVSJ9.pH_FArfgGM2hjSkYidPYaexPTivYlX-ZWSKqSR1yBBwDq_HelMv0ErAs--XCpcF89UVoYM6sGU7qZoA9TeeWH8eyQxXtvUvANywEZG7HpvV9c2HfEYSmEmJOvcNYC_cgazhs-azH-1CVxnn97ITpyPW7f4CSZ9fVFB-WVeEYFeOTAYz_Baq6iCU468Dh0ELv19Yl7YA7mFfSfIF-HuIrLCxutlwjD9dJoCfN_N1ZX_vwYV0bfXzlGml4Tu8r1kBI7yA0geAjS_ykRJ7AQ2dvo1tfVjblQ0Xn-ReXlJ0F7qBbZVDevYe9oaX76CAwD5rlti410x9fx2T0KQIaaw1s3g', 'token_source': 'identity_provider'}\n"
     ]
    }
   ],
   "source": [
    "from src.graph import get_secret_access_token\n",
    "access_token = get_secret_access_token()"
   ]
  },
  {
   "cell_type": "code",
   "execution_count": 13,
   "id": "29a9332e",
   "metadata": {},
   "outputs": [],
   "source": [
    "userId = \"mikalst@mikalst.onmicrosoft.com\"\n",
    "endpoint = f'https://graph.microsoft.com/v1.0/users/{userId}/sendmail'\n",
    "# endpoint = f'https://graph.microsoft.com/v1.0/me/sendmail'\n",
    "# toUserEmail = \"ludvig.johansson@twoday.com\"\n",
    "toUserEmail = \"mikal.stapnes@twoday.com\"\n",
    "# toUserEmail = \"ole.borge@twoday.com\""
   ]
  },
  {
   "cell_type": "code",
   "execution_count": 16,
   "id": "0ef3a5dc-1b7a-41b5-8941-f2e7bf577fcf",
   "metadata": {},
   "outputs": [
    {
     "name": "stdout",
     "output_type": "stream",
     "text": [
      "Sent email successfully\n"
     ]
    }
   ],
   "source": [
    "import requests\n",
    "import src.christmasmail as christmasmail\n",
    "\n",
    "overskrift = 'Kjære Mikal'\n",
    "avsender = 'Cagenissen'\n",
    "\n",
    "email_msg = christmasmail.generate_christmas_email(overskrift, url, avsender, toUserEmail)\n",
    "\n",
    "r = requests.post(endpoint, headers={'Authorization': f'Bearer {access_token}'}, json=email_msg)\n",
    "\n",
    "if r.ok:\n",
    "    print('Sent email successfully')\n",
    "else:\n",
    "    print(r.json())"
   ]
  },
  {
   "cell_type": "code",
   "execution_count": null,
   "id": "5e5f3f87",
   "metadata": {},
   "outputs": [],
   "source": []
  }
 ],
 "metadata": {
  "kernelspec": {
   "display_name": "Python 3 (ipykernel)",
   "language": "python",
   "name": "python3"
  },
  "language_info": {
   "codemirror_mode": {
    "name": "ipython",
    "version": 3
   },
   "file_extension": ".py",
   "mimetype": "text/x-python",
   "name": "python",
   "nbconvert_exporter": "python",
   "pygments_lexer": "ipython3",
   "version": "3.12.0"
  }
 },
 "nbformat": 4,
 "nbformat_minor": 5
}
