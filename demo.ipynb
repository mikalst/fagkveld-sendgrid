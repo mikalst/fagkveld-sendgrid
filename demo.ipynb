{
 "cells": [
  {
   "cell_type": "code",
   "execution_count": 1,
   "id": "5d77e291-31b8-49ba-900c-9dbe3dd754c6",
   "metadata": {},
   "outputs": [],
   "source": [
    "%load_ext autoreload\n",
    "%autoreload 2"
   ]
  },
  {
   "cell_type": "code",
   "execution_count": 2,
   "metadata": {},
   "outputs": [
    {
     "name": "stdout",
     "output_type": "stream",
     "text": [
      "MoviePy - Building file ./images/ole.gif with imageio.\n"
     ]
    },
    {
     "name": "stderr",
     "output_type": "stream",
     "text": [
      "                                                               \r"
     ]
    }
   ],
   "source": [
    "from moviepy.editor import VideoFileClip\n",
    "\n",
    "navn = 'ole'\n",
    "\n",
    "clip = VideoFileClip(f'./images/{navn}.mov', target_resolution=(160, 90))\n",
    "clip.write_gif(f'./images/{navn}.gif', fps=10)"
   ]
  },
  {
   "cell_type": "code",
   "execution_count": 4,
   "metadata": {},
   "outputs": [
    {
     "name": "stdout",
     "output_type": "stream",
     "text": [
      "https://stfagkveldsendgrid.blob.core.windows.net/images/ole.gif?se=2023-12-12T15%3A54%3A05Z&sp=r&sv=2023-11-03&ss=b&srt=o&sig=gXjDr1kkoJgKbJjxqXBJ/8c3r/ZP2JZMo%2B23/%2B3kj0Y%3D\n"
     ]
    }
   ],
   "source": [
    "import os\n",
    "from src.storeblob import upload_file_to_blob\n",
    "from dotenv import load_dotenv\n",
    "load_dotenv()\n",
    "\n",
    "connection_string = os.getenv(\"ABS_CS\")\n",
    "key = os.getenv(\"ABS_KEY\")\n",
    "\n",
    "url = upload_file_to_blob(f'./images/{navn}.gif', connection_string, key, 'images', f'{navn}.gif')\n",
    "\n",
    "print(url)\n"
   ]
  },
  {
   "cell_type": "code",
   "execution_count": 5,
   "id": "5a18a03d",
   "metadata": {},
   "outputs": [
    {
     "name": "stdout",
     "output_type": "stream",
     "text": [
      "{'token_type': 'Bearer', 'expires_in': 3599, 'ext_expires_in': 3599, 'access_token': 'eyJ0eXAiOiJKV1QiLCJub25jZSI6IklxcVFZLXcxaU50aTNsZThzM2dnLVNIQ2hmcXd4ajBwUmRPN0Zub1pES0EiLCJhbGciOiJSUzI1NiIsIng1dCI6IlQxU3QtZExUdnlXUmd4Ql82NzZ1OGtyWFMtSSIsImtpZCI6IlQxU3QtZExUdnlXUmd4Ql82NzZ1OGtyWFMtSSJ9.eyJhdWQiOiJodHRwczovL2dyYXBoLm1pY3Jvc29mdC5jb20iLCJpc3MiOiJodHRwczovL3N0cy53aW5kb3dzLm5ldC9iYTlkNzMwNS0zMGVkLTQyY2EtOGI1NC02NWQ5OGQwZjJhMjkvIiwiaWF0IjoxNzAyMzA2MTUxLCJuYmYiOjE3MDIzMDYxNTEsImV4cCI6MTcwMjMxMDA1MSwiYWlvIjoiRTJWZ1lGam1ORy83dFQzT2QvVW5CL2VIT0MxakFBQT0iLCJhcHBfZGlzcGxheW5hbWUiOiJBenVyZU1haWxlcjMiLCJhcHBpZCI6ImYxODQ3OWM0LTBkNGUtNDYyMC1hNDM1LWFiM2ZlMDZlZTI3NSIsImFwcGlkYWNyIjoiMSIsImlkcCI6Imh0dHBzOi8vc3RzLndpbmRvd3MubmV0L2JhOWQ3MzA1LTMwZWQtNDJjYS04YjU0LTY1ZDk4ZDBmMmEyOS8iLCJpZHR5cCI6ImFwcCIsIm9pZCI6IjQ5Y2ViYTg5LTMwOGUtNGRjOC1iNDJhLThlZDc2YTUyMDBmZiIsInJoIjoiMC5BWUVBQlhPZHV1MHd5a0tMVkdYWmpROHFLUU1BQUFBQUFBQUF3QUFBQUFBQUFBQ0JBQUEuIiwicm9sZXMiOlsiTWFpbC5TZW5kIl0sInN1YiI6IjQ5Y2ViYTg5LTMwOGUtNGRjOC1iNDJhLThlZDc2YTUyMDBmZiIsInRlbmFudF9yZWdpb25fc2NvcGUiOiJFVSIsInRpZCI6ImJhOWQ3MzA1LTMwZWQtNDJjYS04YjU0LTY1ZDk4ZDBmMmEyOSIsInV0aSI6ImR0R1R0QXB1M2tTZ0tBd0V6OXhtQUEiLCJ2ZXIiOiIxLjAiLCJ3aWRzIjpbIjA5OTdhMWQwLTBkMWQtNGFjYi1iNDA4LWQ1Y2E3MzEyMWU5MCJdLCJ4bXNfdGNkdCI6MTYyMDEyMzQ1OCwieG1zX3RkYnIiOiJFVSJ9.jAdkXtZbc7coeVinTbN7h7iBPmYuPdAtRVIvq-GBriOQ2kqfg8NSxUnRBo81iSlquvnM14fcpRD6kAaUMnkX83BY-BfCyetcVWqEzRzMzILr1QATt_raMxXNWpu4kRqay8RuQH3PMeCZ36UOgKsWzDA9X6uBjQaBwtVF_5_8omYD_wnIe1ML9E0KMV1ve5Fq6o2h-gmD2o3mzlQ5TfGeCmx0Rez4Toc8wo2DJitbdMVy7OzdSXWVjFv5h_K-GDHZUw7VXtf5ui6Rl5I39D4xtRbT_JKtIRERfG4qk2TlXt68PnY5m9p7qQKCFVqmpVyBd6A9uqDan2V0itWOfsl5hQ', 'token_source': 'identity_provider'}\n"
     ]
    }
   ],
   "source": [
    "from src.graph import get_secret_access_token\n",
    "access_token = get_secret_access_token()"
   ]
  },
  {
   "cell_type": "code",
   "execution_count": 7,
   "metadata": {},
   "outputs": [],
   "source": [
    "userId = \"mikalst@mikalst.onmicrosoft.com\"\n",
    "endpoint = f'https://graph.microsoft.com/v1.0/users/{userId}/sendmail'\n",
    "toUserEmail = \"mikal.stapnes@twoday.com\""
   ]
  },
  {
   "cell_type": "code",
   "execution_count": 9,
   "id": "0ef3a5dc-1b7a-41b5-8941-f2e7bf577fcf",
   "metadata": {},
   "outputs": [
    {
     "name": "stdout",
     "output_type": "stream",
     "text": [
      "Sent email successfully\n"
     ]
    }
   ],
   "source": [
    "import requests\n",
    "import src.christmasmail as christmasmail\n",
    "\n",
    "overskrift = 'Hei du!'\n",
    "underoverskrift = 'Ja du!'\n",
    "hemmelig_venn = 'Du har blitt besøkt av cagenissen. Vennligst rapporter til nærmeste cagehall UMIDDELBART'\n",
    "avsender = 'Cagenissen'\n",
    "\n",
    "email_msg = christmasmail.generate_christmas_email(hemmelig_venn, url, avsender, toUserEmail)\n",
    "\n",
    "r = requests.post(endpoint, headers={'Authorization': f'Bearer {access_token}'}, json=email_msg)\n",
    "\n",
    "if r.ok:\n",
    "    print('Sent email successfully')\n",
    "else:\n",
    "    print(r.json())"
   ]
  },
  {
   "cell_type": "code",
   "execution_count": null,
   "id": "0d41e53f",
   "metadata": {},
   "outputs": [],
   "source": []
  }
 ],
 "metadata": {
  "kernelspec": {
   "display_name": "Python 3 (ipykernel)",
   "language": "python",
   "name": "python3"
  },
  "language_info": {
   "codemirror_mode": {
    "name": "ipython",
    "version": 3
   },
   "file_extension": ".py",
   "mimetype": "text/x-python",
   "name": "python",
   "nbconvert_exporter": "python",
   "pygments_lexer": "ipython3",
   "version": "3.12.0"
  }
 },
 "nbformat": 4,
 "nbformat_minor": 5
}
