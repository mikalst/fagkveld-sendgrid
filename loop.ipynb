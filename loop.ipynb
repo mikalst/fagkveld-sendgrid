{
 "cells": [
  {
   "cell_type": "code",
   "execution_count": 1,
   "id": "ae5b0861",
   "metadata": {},
   "outputs": [],
   "source": [
    "from src.ai import createOpenAIClient\n",
    "\n",
    "client = createOpenAIClient()"
   ]
  },
  {
   "cell_type": "code",
   "execution_count": 14,
   "id": "feae1cef",
   "metadata": {},
   "outputs": [],
   "source": [
    "prompts = [\n",
    "    {\n",
    "        'gpt_prompt': 'Lag en kort koselig julehilsen til min gode kollega, Mikal 2',\n",
    "        'gpt_system_message': 'Jeg heter Ole Martin og er en software developer som ønsker Mikal en god jul',\n",
    "        'dalle_prompt': 'Snowman',\n",
    "        'epost': 'mikal.stapnes@twoday.com',\n",
    "        'avsender': 'Mikal'\n",
    "    },\n",
    "    {\n",
    "        'gpt_prompt': 'Lag en kort koselig rap til min gode kollega, Mikal',\n",
    "        'gpt_system_message': 'Jeg heter Ole Martin og er en software developer som ønsker Mikal en god jul',\n",
    "        'dalle_prompt': 'Snowman',\n",
    "        'epost': 'mikal.stapnes@twoday.com',\n",
    "        'avsender': 'Mikal 2'\n",
    "    }\n",
    "]"
   ]
  },
  {
   "cell_type": "code",
   "execution_count": 15,
   "id": "39f905b7",
   "metadata": {},
   "outputs": [],
   "source": [
    "from src.ai import generate_text\n",
    "\n",
    "for p in prompts:\n",
    "    text_content = generate_text(client, p['gpt_prompt'], p['gpt_system_message'])\n",
    "\n",
    "    p['text_content'] = text_content"
   ]
  },
  {
   "cell_type": "code",
   "execution_count": 16,
   "id": "ebb7e3e3",
   "metadata": {},
   "outputs": [],
   "source": [
    "from src.ai import generate_image_b64\n",
    "from PIL import Image\n",
    "\n",
    "images = [generate_image_b64(client, p['dalle_prompt']) for p in prompts]"
   ]
  },
  {
   "cell_type": "code",
   "execution_count": 17,
   "id": "1373f909",
   "metadata": {},
   "outputs": [],
   "source": [
    "import requests \n",
    "from src.image_text import put_text_on_image\n",
    "from src.storeblob import upload_file_to_blob\n",
    "import os\n",
    "from dotenv import load_dotenv\n",
    "\n",
    "load_dotenv()\n",
    "connection_string = os.getenv(\"ABS_CS\")\n",
    "key = os.getenv(\"ABS_KEY\")\n",
    "\n",
    "urls = []\n",
    "\n",
    "for i, image in enumerate(images):\n",
    "\n",
    "    file = requests.get(image.data[0].url)\n",
    "    image_path = f'./images/{i}.png'\n",
    "\n",
    "    with open(image_path, \"wb\") as image_file:\n",
    "        image_file.write(file.content)\n",
    "\n",
    "    output_path = f'./images/{i}_texted.png'\n",
    "    image = put_text_on_image(image_path, text_content, output_path, font_path=\"./resources/font.ttf\")\n",
    "\n",
    "    url = upload_file_to_blob(output_path, connection_string, key, 'images', output_path.split('/')[-1])\n",
    "\n",
    "    urls.append(url)"
   ]
  },
  {
   "cell_type": "code",
   "execution_count": 18,
   "id": "2cdb3c64",
   "metadata": {},
   "outputs": [
    {
     "name": "stdout",
     "output_type": "stream",
     "text": [
      "['https://stfagkveldsendgrid.blob.core.windows.net/images/0_texted.png?se=2023-12-11T15%3A43%3A24Z&sp=r&sv=2023-11-03&ss=b&srt=o&sig=JKz9pOmuH97NF/UZnWZN/UDACtyXty7qhb2vlxixj18%3D', 'https://stfagkveldsendgrid.blob.core.windows.net/images/1_texted.png?se=2023-12-11T15%3A43%3A25Z&sp=r&sv=2023-11-03&ss=b&srt=o&sig=L/JJ/OLYzhCaOHwyhJ6ZigeDoKnnQmRg64Pl2S8BQoU%3D']\n"
     ]
    }
   ],
   "source": [
    "print(urls)"
   ]
  },
  {
   "cell_type": "code",
   "execution_count": 19,
   "id": "5a18a03d",
   "metadata": {},
   "outputs": [
    {
     "name": "stdout",
     "output_type": "stream",
     "text": [
      "{'token_type': 'Bearer', 'expires_in': 3599, 'ext_expires_in': 3599, 'access_token': 'eyJ0eXAiOiJKV1QiLCJub25jZSI6ImxJVE92anpJRkhKT25Sc2Nuc3ZzblRub0k5UUZtSFpBeW5aMEo0ZWt5OWsiLCJhbGciOiJSUzI1NiIsIng1dCI6IlQxU3QtZExUdnlXUmd4Ql82NzZ1OGtyWFMtSSIsImtpZCI6IlQxU3QtZExUdnlXUmd4Ql82NzZ1OGtyWFMtSSJ9.eyJhdWQiOiJodHRwczovL2dyYXBoLm1pY3Jvc29mdC5jb20iLCJpc3MiOiJodHRwczovL3N0cy53aW5kb3dzLm5ldC9iYTlkNzMwNS0zMGVkLTQyY2EtOGI1NC02NWQ5OGQwZjJhMjkvIiwiaWF0IjoxNzAyMjE5MTA1LCJuYmYiOjE3MDIyMTkxMDUsImV4cCI6MTcwMjIyMzAwNSwiYWlvIjoiRTJWZ1lJaC9ybFo0bHYxcGR1ejV6ZW1iNUZQa0FBPT0iLCJhcHBfZGlzcGxheW5hbWUiOiJBenVyZU1haWxlcjMiLCJhcHBpZCI6ImYxODQ3OWM0LTBkNGUtNDYyMC1hNDM1LWFiM2ZlMDZlZTI3NSIsImFwcGlkYWNyIjoiMSIsImlkcCI6Imh0dHBzOi8vc3RzLndpbmRvd3MubmV0L2JhOWQ3MzA1LTMwZWQtNDJjYS04YjU0LTY1ZDk4ZDBmMmEyOS8iLCJpZHR5cCI6ImFwcCIsIm9pZCI6IjQ5Y2ViYTg5LTMwOGUtNGRjOC1iNDJhLThlZDc2YTUyMDBmZiIsInJoIjoiMC5BWUVBQlhPZHV1MHd5a0tMVkdYWmpROHFLUU1BQUFBQUFBQUF3QUFBQUFBQUFBQ0JBQUEuIiwicm9sZXMiOlsiTWFpbC5TZW5kIl0sInN1YiI6IjQ5Y2ViYTg5LTMwOGUtNGRjOC1iNDJhLThlZDc2YTUyMDBmZiIsInRlbmFudF9yZWdpb25fc2NvcGUiOiJFVSIsInRpZCI6ImJhOWQ3MzA1LTMwZWQtNDJjYS04YjU0LTY1ZDk4ZDBmMmEyOSIsInV0aSI6ImZCYVZtT201dlV1bW9oc21kNEl2QUEiLCJ2ZXIiOiIxLjAiLCJ3aWRzIjpbIjA5OTdhMWQwLTBkMWQtNGFjYi1iNDA4LWQ1Y2E3MzEyMWU5MCJdLCJ4bXNfdGNkdCI6MTYyMDEyMzQ1OCwieG1zX3RkYnIiOiJFVSJ9.l3mOX2z1fDGzGkJTZ-Z8mBepG9qLK_ij6QKtsntOo4L4f4VLryLoTWGd75f_G5XOb3LOPPTy9R-OtuJJktDokelOLuAsWF0UjOzX81ez2eHdWolawnm79jgg29U7_lQwa5rQEDxIDNV560nMzRlIP5SQp4tbqC-g-UDYRS_5n0yr_PC4AtaKRB2SX_Hb46MDH_haplIEBs--qsyiK2vWbJhj6rOcuDLHzSGPygG2PoBj0dCkXAse6LBlqpzBwaaJB6oi17E7kNhqtfie4gSV95E7fR5klpMxSEz3fFIrai3mkJ_QlRRUauFuxWbTaSuqp_WHgCSXAeNM6pjNIXPkwA', 'token_source': 'identity_provider'}\n"
     ]
    }
   ],
   "source": [
    "from src.graph import get_secret_access_token\n",
    "access_token = get_secret_access_token()"
   ]
  },
  {
   "cell_type": "code",
   "execution_count": 20,
   "id": "29a9332e",
   "metadata": {},
   "outputs": [],
   "source": [
    "userId = \"mikalst@mikalst.onmicrosoft.com\"\n",
    "endpoint = f'https://graph.microsoft.com/v1.0/users/{userId}/sendmail'"
   ]
  },
  {
   "cell_type": "code",
   "execution_count": 21,
   "id": "545415fe",
   "metadata": {},
   "outputs": [],
   "source": [
    "import random\n",
    "\n",
    "order = list(range(len(prompts)))\n",
    "\n",
    "random.shuffle(order)"
   ]
  },
  {
   "cell_type": "code",
   "execution_count": 22,
   "id": "0ef3a5dc-1b7a-41b5-8941-f2e7bf577fcf",
   "metadata": {},
   "outputs": [],
   "source": [
    "import requests\n",
    "import src.christmasmail as christmasmail\n",
    "\n",
    "def sendmail(i, j):\n",
    "    mottaker = prompts[j]['avsender']\n",
    "    avsender = prompts[i]['avsender']\n",
    "    overskrift = f'Kjære {mottaker}'\n",
    "    url = urls[i]\n",
    "    toUserEmail = prompts[j]['epost']\n",
    "\n",
    "    email_msg = christmasmail.generate_christmas_email(overskrift, url, avsender, toUserEmail)\n",
    "\n",
    "    r = requests.post(endpoint, headers={'Authorization': f'Bearer {access_token}'}, json=email_msg)\n",
    "\n",
    "    if not(r.ok):\n",
    "        print(r.json())\n",
    "\n",
    "for i in range(len(order)-1):\n",
    "    sendmail(i, i+1)\n",
    "sendmail(len(order)-1, 0)"
   ]
  },
  {
   "cell_type": "code",
   "execution_count": null,
   "id": "5e5f3f87",
   "metadata": {},
   "outputs": [],
   "source": []
  }
 ],
 "metadata": {
  "kernelspec": {
   "display_name": "Python 3 (ipykernel)",
   "language": "python",
   "name": "python3"
  },
  "language_info": {
   "codemirror_mode": {
    "name": "ipython",
    "version": 3
   },
   "file_extension": ".py",
   "mimetype": "text/x-python",
   "name": "python",
   "nbconvert_exporter": "python",
   "pygments_lexer": "ipython3",
   "version": "3.12.0"
  }
 },
 "nbformat": 4,
 "nbformat_minor": 5
}
